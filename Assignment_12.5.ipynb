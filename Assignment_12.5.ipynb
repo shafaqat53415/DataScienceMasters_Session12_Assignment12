{
 "cells": [
  {
   "cell_type": "code",
   "execution_count": 1,
   "metadata": {},
   "outputs": [],
   "source": [
    "#Read the following data set:\n",
    "#https://archive.ics.uci.edu/ml/machine-learning-databases/adult/\n",
    "#Rename the columns as per the description from this file:\n",
    "#https://archive.ics.uci.edu/ml/machine-learning-databases/adult/adult.names\n",
    "#Task:\n",
    "#Create a sql db from adult dataset and name it sqladb\n",
    "#5. What is the average, minimum and maximum age group for people working in different sectors"
   ]
  },
  {
   "cell_type": "code",
   "execution_count": 2,
   "metadata": {},
   "outputs": [],
   "source": [
    "import numpy as np\n",
    "import pandas as pd\n",
    "from pandas import DataFrame, Series\n",
    "import sqlite3 as db"
   ]
  },
  {
   "cell_type": "code",
   "execution_count": 3,
   "metadata": {},
   "outputs": [],
   "source": [
    "url = \"https://archive.ics.uci.edu/ml/machine-learning-databases/adult/adult.data\"\n",
    "col_list = ['age','workclass','fnlwgt','education','education-num','marital-status','occupation',\n",
    "           'relationship','race','sex','capital-gain','capital-loss','hours-per-week','native-country','Label']\n",
    "adult = pd.read_csv(url,sep=\",\",delimiter=\",\",names=col_list,skipinitialspace=True)\n",
    "sqladb = adult.copy()"
   ]
  },
  {
   "cell_type": "code",
   "execution_count": 4,
   "metadata": {},
   "outputs": [],
   "source": [
    "from pandasql import sqldf\n",
    "pysqldf = lambda q: sqldf(q, globals())"
   ]
  },
  {
   "cell_type": "code",
   "execution_count": 5,
   "metadata": {},
   "outputs": [
    {
     "data": {
      "text/html": [
       "<div>\n",
       "<style scoped>\n",
       "    .dataframe tbody tr th:only-of-type {\n",
       "        vertical-align: middle;\n",
       "    }\n",
       "\n",
       "    .dataframe tbody tr th {\n",
       "        vertical-align: top;\n",
       "    }\n",
       "\n",
       "    .dataframe thead th {\n",
       "        text-align: right;\n",
       "    }\n",
       "</style>\n",
       "<table border=\"1\" class=\"dataframe\">\n",
       "  <thead>\n",
       "    <tr style=\"text-align: right;\">\n",
       "      <th></th>\n",
       "      <th>avg(age)</th>\n",
       "      <th>max(age)</th>\n",
       "      <th>min(age)</th>\n",
       "      <th>workclass</th>\n",
       "    </tr>\n",
       "  </thead>\n",
       "  <tbody>\n",
       "    <tr>\n",
       "      <th>0</th>\n",
       "      <td>40.960240</td>\n",
       "      <td>90</td>\n",
       "      <td>17</td>\n",
       "      <td>?</td>\n",
       "    </tr>\n",
       "    <tr>\n",
       "      <th>1</th>\n",
       "      <td>42.590625</td>\n",
       "      <td>90</td>\n",
       "      <td>17</td>\n",
       "      <td>Federal-gov</td>\n",
       "    </tr>\n",
       "    <tr>\n",
       "      <th>2</th>\n",
       "      <td>41.751075</td>\n",
       "      <td>90</td>\n",
       "      <td>17</td>\n",
       "      <td>Local-gov</td>\n",
       "    </tr>\n",
       "    <tr>\n",
       "      <th>3</th>\n",
       "      <td>20.571429</td>\n",
       "      <td>30</td>\n",
       "      <td>17</td>\n",
       "      <td>Never-worked</td>\n",
       "    </tr>\n",
       "    <tr>\n",
       "      <th>4</th>\n",
       "      <td>36.797585</td>\n",
       "      <td>90</td>\n",
       "      <td>17</td>\n",
       "      <td>Private</td>\n",
       "    </tr>\n",
       "    <tr>\n",
       "      <th>5</th>\n",
       "      <td>46.017025</td>\n",
       "      <td>84</td>\n",
       "      <td>17</td>\n",
       "      <td>Self-emp-inc</td>\n",
       "    </tr>\n",
       "    <tr>\n",
       "      <th>6</th>\n",
       "      <td>44.969697</td>\n",
       "      <td>90</td>\n",
       "      <td>17</td>\n",
       "      <td>Self-emp-not-inc</td>\n",
       "    </tr>\n",
       "    <tr>\n",
       "      <th>7</th>\n",
       "      <td>39.436055</td>\n",
       "      <td>81</td>\n",
       "      <td>17</td>\n",
       "      <td>State-gov</td>\n",
       "    </tr>\n",
       "    <tr>\n",
       "      <th>8</th>\n",
       "      <td>47.785714</td>\n",
       "      <td>72</td>\n",
       "      <td>19</td>\n",
       "      <td>Without-pay</td>\n",
       "    </tr>\n",
       "  </tbody>\n",
       "</table>\n",
       "</div>"
      ],
      "text/plain": [
       "    avg(age)  max(age)  min(age)         workclass\n",
       "0  40.960240        90        17                 ?\n",
       "1  42.590625        90        17       Federal-gov\n",
       "2  41.751075        90        17         Local-gov\n",
       "3  20.571429        30        17      Never-worked\n",
       "4  36.797585        90        17           Private\n",
       "5  46.017025        84        17      Self-emp-inc\n",
       "6  44.969697        90        17  Self-emp-not-inc\n",
       "7  39.436055        81        17         State-gov\n",
       "8  47.785714        72        19       Without-pay"
      ]
     },
     "execution_count": 5,
     "metadata": {},
     "output_type": "execute_result"
    }
   ],
   "source": [
    "q  = \"\"\"\n",
    "     select avg(age),max(age),min(age),workclass from sqladb group by workclass ;\n",
    "\"\"\"\n",
    "\n",
    "pysqldf(q)"
   ]
  }
 ],
 "metadata": {
  "kernelspec": {
   "display_name": "Python 3",
   "language": "python",
   "name": "python3"
  },
  "language_info": {
   "codemirror_mode": {
    "name": "ipython",
    "version": 3
   },
   "file_extension": ".py",
   "mimetype": "text/x-python",
   "name": "python",
   "nbconvert_exporter": "python",
   "pygments_lexer": "ipython3",
   "version": "3.6.5"
  }
 },
 "nbformat": 4,
 "nbformat_minor": 2
}
